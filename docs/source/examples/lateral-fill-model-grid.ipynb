{
 "cells": [
  {
   "cell_type": "markdown",
   "metadata": {},
   "source": [
    "# Lateral fill on model grid\n",
    "\n",
    "This example shows how to apply `pop_tools.lateral_fill` on a model dataset. We use a model grid dataset for illustration purposes."
   ]
  },
  {
   "cell_type": "code",
   "execution_count": null,
   "metadata": {},
   "outputs": [],
   "source": [
    "%matplotlib inline\n",
    "import numpy as np\n",
    "import pop_tools\n",
    "import xarray as xr\n",
    "import matplotlib.pyplot as plt\n",
    "xr.set_options(display_style=\"html\")  # fancy HTML repr"
   ]
  },
  {
   "cell_type": "code",
   "execution_count": null,
   "metadata": {},
   "outputs": [],
   "source": [
    "ds = pop_tools.get_grid('POP_gx3v7')\n",
    "ds"
   ]
  },
  {
   "cell_type": "markdown",
   "metadata": {},
   "source": [
    "## Generate a field with some missing values"
   ]
  },
  {
   "cell_type": "code",
   "execution_count": null,
   "metadata": {},
   "outputs": [],
   "source": [
    "field = ds.KMT.copy() * 1.\n",
    "field = field.where(ds.KMT > 0)\n",
    "field.values[20:40, :] = np.nan\n",
    "field.plot()"
   ]
  },
  {
   "cell_type": "markdown",
   "metadata": {},
   "source": [
    "## Fill the missing values\n",
    "\n",
    "`pop_tools` offers two algorithms for filling missing values.\n",
    "The default option is an iterative smoothing algorithm.\n",
    "Calling `lateral_fill()` with `use_sor=True` will use the SOR fill algorithm instead.\n",
    "\n",
    "The two algorithms provide slightly different results, as seen in the plots below.\n",
    "The SOR algorithm is faster than the iterative method in most situations."
   ]
  },
  {
   "cell_type": "code",
   "execution_count": null,
   "metadata": {},
   "outputs": [],
   "source": [
    "%time field_filled = pop_tools.lateral_fill(field, isvalid_mask=(ds.KMT > 0))\n",
    "%time field_filled_sor = pop_tools.lateral_fill(field, isvalid_mask=(ds.KMT > 0), use_sor=True)\n",
    "\n",
    "plt.subplots(nrows=1, ncols=3, figsize=(20,4))\n",
    "\n",
    "plt.subplot(1,3,1)\n",
    "field_filled.plot();\n",
    "\n",
    "plt.subplot(1,3,2)\n",
    "field_filled_sor.plot();\n",
    "\n",
    "plt.subplot(1,3,3)\n",
    "(field_filled - field_filled_sor).plot();"
   ]
  },
  {
   "cell_type": "code",
   "execution_count": null,
   "metadata": {},
   "outputs": [],
   "source": [
    "%load_ext watermark\n",
    "%watermark -d -iv -m -g -h"
   ]
  }
 ],
 "metadata": {
  "kernelspec": {
   "display_name": "Python [conda env:pop-tools]",
   "language": "python",
   "name": "conda-env-pop-tools-py"
  },
  "language_info": {
   "codemirror_mode": {
    "name": "ipython",
    "version": 3
   },
   "file_extension": ".py",
   "mimetype": "text/x-python",
   "name": "python",
   "nbconvert_exporter": "python",
   "pygments_lexer": "ipython3",
   "version": "3.7.8"
  }
 },
 "nbformat": 4,
 "nbformat_minor": 4
}
